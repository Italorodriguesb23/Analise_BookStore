{
 "cells": [
  {
   "cell_type": "code",
   "execution_count": 54,
   "id": "35942b9d-cb4a-4b50-a971-b76bd63d14aa",
   "metadata": {},
   "outputs": [],
   "source": [
    "import pandas as pd\n",
    "import seaborn as srn"
   ]
  },
  {
   "cell_type": "code",
   "execution_count": 12,
   "id": "3e46a824-66ad-4774-9e6c-6b9224f60f9c",
   "metadata": {},
   "outputs": [
    {
     "data": {
      "text/html": [
       "<div>\n",
       "<style scoped>\n",
       "    .dataframe tbody tr th:only-of-type {\n",
       "        vertical-align: middle;\n",
       "    }\n",
       "\n",
       "    .dataframe tbody tr th {\n",
       "        vertical-align: top;\n",
       "    }\n",
       "\n",
       "    .dataframe thead th {\n",
       "        text-align: right;\n",
       "    }\n",
       "</style>\n",
       "<table border=\"1\" class=\"dataframe\">\n",
       "  <thead>\n",
       "    <tr style=\"text-align: right;\">\n",
       "      <th></th>\n",
       "      <th>Título</th>\n",
       "      <th>Preço</th>\n",
       "      <th>Avaliação (1-5)</th>\n",
       "      <th>Disponibilidade</th>\n",
       "      <th>Categoria</th>\n",
       "      <th>Descrição</th>\n",
       "      <th>Preço sem imposto</th>\n",
       "      <th>Preço com imposto</th>\n",
       "      <th>Quantidade disponível</th>\n",
       "      <th>UPC</th>\n",
       "      <th>Link</th>\n",
       "    </tr>\n",
       "  </thead>\n",
       "  <tbody>\n",
       "    <tr>\n",
       "      <th>0</th>\n",
       "      <td>A Light in the Attic</td>\n",
       "      <td>51.77</td>\n",
       "      <td>3</td>\n",
       "      <td>In stock</td>\n",
       "      <td>Poetry</td>\n",
       "      <td>It's hard to imagine a world without A Light i...</td>\n",
       "      <td>Â£51.77</td>\n",
       "      <td>Â£51.77</td>\n",
       "      <td>22</td>\n",
       "      <td>a897fe39b1053632</td>\n",
       "      <td>https://books.toscrape.com/catalogue/a-light-i...</td>\n",
       "    </tr>\n",
       "    <tr>\n",
       "      <th>1</th>\n",
       "      <td>Tipping the Velvet</td>\n",
       "      <td>53.74</td>\n",
       "      <td>1</td>\n",
       "      <td>In stock</td>\n",
       "      <td>Historical Fiction</td>\n",
       "      <td>\"Erotic and absorbing...Written with starling ...</td>\n",
       "      <td>Â£53.74</td>\n",
       "      <td>Â£53.74</td>\n",
       "      <td>20</td>\n",
       "      <td>90fa61229261140a</td>\n",
       "      <td>https://books.toscrape.com/catalogue/tipping-t...</td>\n",
       "    </tr>\n",
       "    <tr>\n",
       "      <th>2</th>\n",
       "      <td>Soumission</td>\n",
       "      <td>50.10</td>\n",
       "      <td>1</td>\n",
       "      <td>In stock</td>\n",
       "      <td>Fiction</td>\n",
       "      <td>Dans une France assez proche de la nÃ´tre, un ...</td>\n",
       "      <td>Â£50.10</td>\n",
       "      <td>Â£50.10</td>\n",
       "      <td>20</td>\n",
       "      <td>6957f44c3847a760</td>\n",
       "      <td>https://books.toscrape.com/catalogue/soumissio...</td>\n",
       "    </tr>\n",
       "    <tr>\n",
       "      <th>3</th>\n",
       "      <td>Sharp Objects</td>\n",
       "      <td>47.82</td>\n",
       "      <td>4</td>\n",
       "      <td>In stock</td>\n",
       "      <td>Mystery</td>\n",
       "      <td>WICKED above her hipbone, GIRL across her hear...</td>\n",
       "      <td>Â£47.82</td>\n",
       "      <td>Â£47.82</td>\n",
       "      <td>20</td>\n",
       "      <td>e00eb4fd7b871a48</td>\n",
       "      <td>https://books.toscrape.com/catalogue/sharp-obj...</td>\n",
       "    </tr>\n",
       "    <tr>\n",
       "      <th>4</th>\n",
       "      <td>Sapiens: A Brief History of Humankind</td>\n",
       "      <td>54.23</td>\n",
       "      <td>5</td>\n",
       "      <td>In stock</td>\n",
       "      <td>History</td>\n",
       "      <td>From a renowned historian comes a groundbreaki...</td>\n",
       "      <td>Â£54.23</td>\n",
       "      <td>Â£54.23</td>\n",
       "      <td>20</td>\n",
       "      <td>4165285e1663650f</td>\n",
       "      <td>https://books.toscrape.com/catalogue/sapiens-a...</td>\n",
       "    </tr>\n",
       "  </tbody>\n",
       "</table>\n",
       "</div>"
      ],
      "text/plain": [
       "                                  Título  Preço  Avaliação (1-5)  \\\n",
       "0                   A Light in the Attic  51.77                3   \n",
       "1                     Tipping the Velvet  53.74                1   \n",
       "2                             Soumission  50.10                1   \n",
       "3                          Sharp Objects  47.82                4   \n",
       "4  Sapiens: A Brief History of Humankind  54.23                5   \n",
       "\n",
       "  Disponibilidade           Categoria  \\\n",
       "0        In stock              Poetry   \n",
       "1        In stock  Historical Fiction   \n",
       "2        In stock             Fiction   \n",
       "3        In stock             Mystery   \n",
       "4        In stock             History   \n",
       "\n",
       "                                           Descrição Preço sem imposto  \\\n",
       "0  It's hard to imagine a world without A Light i...           Â£51.77   \n",
       "1  \"Erotic and absorbing...Written with starling ...           Â£53.74   \n",
       "2  Dans une France assez proche de la nÃ´tre, un ...           Â£50.10   \n",
       "3  WICKED above her hipbone, GIRL across her hear...           Â£47.82   \n",
       "4  From a renowned historian comes a groundbreaki...           Â£54.23   \n",
       "\n",
       "  Preço com imposto  Quantidade disponível               UPC  \\\n",
       "0           Â£51.77                     22  a897fe39b1053632   \n",
       "1           Â£53.74                     20  90fa61229261140a   \n",
       "2           Â£50.10                     20  6957f44c3847a760   \n",
       "3           Â£47.82                     20  e00eb4fd7b871a48   \n",
       "4           Â£54.23                     20  4165285e1663650f   \n",
       "\n",
       "                                                Link  \n",
       "0  https://books.toscrape.com/catalogue/a-light-i...  \n",
       "1  https://books.toscrape.com/catalogue/tipping-t...  \n",
       "2  https://books.toscrape.com/catalogue/soumissio...  \n",
       "3  https://books.toscrape.com/catalogue/sharp-obj...  \n",
       "4  https://books.toscrape.com/catalogue/sapiens-a...  "
      ]
     },
     "execution_count": 12,
     "metadata": {},
     "output_type": "execute_result"
    }
   ],
   "source": [
    "dataset = pd.read_csv(\"livros_completos.csv\")\n",
    "dataset.head()"
   ]
  },
  {
   "cell_type": "code",
   "execution_count": 14,
   "id": "581b84ab-b6be-4b14-96b3-e5596b9ee69a",
   "metadata": {},
   "outputs": [
    {
     "data": {
      "text/plain": [
       "Título                   0\n",
       "Preço                    0\n",
       "Avaliação (1-5)          0\n",
       "Disponibilidade          0\n",
       "Categoria                0\n",
       "Descrição                1\n",
       "Preço sem imposto        0\n",
       "Preço com imposto        0\n",
       "Quantidade disponível    0\n",
       "UPC                      0\n",
       "Link                     0\n",
       "dtype: int64"
      ]
     },
     "execution_count": 14,
     "metadata": {},
     "output_type": "execute_result"
    }
   ],
   "source": [
    "dataset.isnull().sum()"
   ]
  },
  {
   "cell_type": "code",
   "execution_count": 16,
   "id": "1fb9e197-1b35-4965-83ae-856afdd68632",
   "metadata": {},
   "outputs": [
    {
     "data": {
      "text/plain": [
       "count                                                   479\n",
       "unique                                                  479\n",
       "top       It's hard to imagine a world without A Light i...\n",
       "freq                                                      1\n",
       "Name: Descrição, dtype: object"
      ]
     },
     "execution_count": 16,
     "metadata": {},
     "output_type": "execute_result"
    }
   ],
   "source": [
    "dataset['Descrição'].describe()"
   ]
  },
  {
   "cell_type": "code",
   "execution_count": 18,
   "id": "95cb4d4a-8e43-4091-92d9-6c042761c9ef",
   "metadata": {},
   "outputs": [
    {
     "data": {
      "text/html": [
       "<div>\n",
       "<style scoped>\n",
       "    .dataframe tbody tr th:only-of-type {\n",
       "        vertical-align: middle;\n",
       "    }\n",
       "\n",
       "    .dataframe tbody tr th {\n",
       "        vertical-align: top;\n",
       "    }\n",
       "\n",
       "    .dataframe thead th {\n",
       "        text-align: right;\n",
       "    }\n",
       "</style>\n",
       "<table border=\"1\" class=\"dataframe\">\n",
       "  <thead>\n",
       "    <tr style=\"text-align: right;\">\n",
       "      <th></th>\n",
       "      <th>Título</th>\n",
       "      <th>Preço</th>\n",
       "      <th>Avaliação (1-5)</th>\n",
       "      <th>Disponibilidade</th>\n",
       "      <th>Categoria</th>\n",
       "      <th>Descrição</th>\n",
       "      <th>Preço sem imposto</th>\n",
       "      <th>Preço com imposto</th>\n",
       "      <th>Quantidade disponível</th>\n",
       "      <th>UPC</th>\n",
       "      <th>Link</th>\n",
       "    </tr>\n",
       "  </thead>\n",
       "  <tbody>\n",
       "    <tr>\n",
       "      <th>160</th>\n",
       "      <td>The Bridge to Consciousness: I'm Writing the B...</td>\n",
       "      <td>32.0</td>\n",
       "      <td>3</td>\n",
       "      <td>In stock</td>\n",
       "      <td>Default</td>\n",
       "      <td>NaN</td>\n",
       "      <td>Â£32.00</td>\n",
       "      <td>Â£32.00</td>\n",
       "      <td>15</td>\n",
       "      <td>efc3768127714ec3</td>\n",
       "      <td>https://books.toscrape.com/catalogue/the-bridg...</td>\n",
       "    </tr>\n",
       "  </tbody>\n",
       "</table>\n",
       "</div>"
      ],
      "text/plain": [
       "                                                Título  Preço  \\\n",
       "160  The Bridge to Consciousness: I'm Writing the B...   32.0   \n",
       "\n",
       "     Avaliação (1-5) Disponibilidade Categoria Descrição Preço sem imposto  \\\n",
       "160                3        In stock   Default       NaN           Â£32.00   \n",
       "\n",
       "    Preço com imposto  Quantidade disponível               UPC  \\\n",
       "160           Â£32.00                     15  efc3768127714ec3   \n",
       "\n",
       "                                                  Link  \n",
       "160  https://books.toscrape.com/catalogue/the-bridg...  "
      ]
     },
     "execution_count": 18,
     "metadata": {},
     "output_type": "execute_result"
    }
   ],
   "source": [
    "dataset[dataset.isnull().any(axis=1)]"
   ]
  },
  {
   "cell_type": "code",
   "execution_count": 22,
   "id": "6498b39c-6c50-4c53-8e40-622e913f5dad",
   "metadata": {},
   "outputs": [
    {
     "data": {
      "text/plain": [
       "0      It's hard to imagine a world without A Light i...\n",
       "1      \"Erotic and absorbing...Written with starling ...\n",
       "2      Dans une France assez proche de la nÃ´tre, un ...\n",
       "3      WICKED above her hipbone, GIRL across her hear...\n",
       "4      From a renowned historian comes a groundbreaki...\n",
       "                             ...                        \n",
       "475    A brilliant, luminous story of first love, fam...\n",
       "476    âThis is it. My rape. I knew it was coming. ...\n",
       "477    By the early 1970s, President John F. Kennedy ...\n",
       "478    The prophetic poem that launched a generation ...\n",
       "479    Now in paperback, Umberto Ecoâs groundbreaki...\n",
       "Name: Descrição, Length: 480, dtype: object"
      ]
     },
     "execution_count": 22,
     "metadata": {},
     "output_type": "execute_result"
    }
   ],
   "source": [
    "dataset['Descrição'].fillna('Indisponivel')"
   ]
  },
  {
   "cell_type": "code",
   "execution_count": 24,
   "id": "6f740891-7d0b-4f53-8c26-b5e9d4303cfd",
   "metadata": {},
   "outputs": [
    {
     "data": {
      "text/plain": [
       "Título                   0\n",
       "Preço                    0\n",
       "Avaliação (1-5)          0\n",
       "Disponibilidade          0\n",
       "Categoria                0\n",
       "Descrição                0\n",
       "Preço sem imposto        0\n",
       "Preço com imposto        0\n",
       "Quantidade disponível    0\n",
       "UPC                      0\n",
       "Link                     0\n",
       "dtype: int64"
      ]
     },
     "execution_count": 24,
     "metadata": {},
     "output_type": "execute_result"
    }
   ],
   "source": [
    "dataset.isnull().sum()"
   ]
  },
  {
   "cell_type": "code",
   "execution_count": 28,
   "id": "0db02623-8b9c-4a68-84f4-35d3dcf69ec4",
   "metadata": {},
   "outputs": [
    {
     "data": {
      "text/plain": [
       "Preço\n",
       "10.16    1\n",
       "10.23    1\n",
       "10.29    1\n",
       "10.40    1\n",
       "10.41    1\n",
       "        ..\n",
       "59.15    1\n",
       "59.45    1\n",
       "59.48    1\n",
       "59.64    1\n",
       "59.90    1\n",
       "Length: 456, dtype: int64"
      ]
     },
     "execution_count": 28,
     "metadata": {},
     "output_type": "execute_result"
    }
   ],
   "source": [
    "agrupado = dataset.groupby(['Preço']).size()\n",
    "agrupado"
   ]
  },
  {
   "cell_type": "code",
   "execution_count": 59,
   "id": "b08f97d8-4b2b-4d9e-a21a-94b1f4044394",
   "metadata": {},
   "outputs": [],
   "source": [
    "dataset.loc[dataset['Categoria'] == 'Add a comment', 'Categoria'] = \"Romance\"\n",
    "dataset.loc[dataset['Categoria'] == 'Default', 'Categoria'] = \"Fiction\""
   ]
  },
  {
   "cell_type": "code",
   "execution_count": 61,
   "id": "5f0a31b7-61cb-4f69-81a1-03900a9230bc",
   "metadata": {},
   "outputs": [
    {
     "data": {
      "text/plain": [
       "Categoria\n",
       "Fiction               110\n",
       "Nonfiction             59\n",
       "Romance                42\n",
       "Sequential Art         40\n",
       "Young Adult            26\n",
       "Fantasy                19\n",
       "Food and Drink         18\n",
       "Mystery                17\n",
       "Poetry                 14\n",
       "Childrens              11\n",
       "Historical Fiction     10\n",
       "Business                9\n",
       "History                 8\n",
       "Science Fiction         7\n",
       "Horror                  7\n",
       "Thriller                6\n",
       "Music                   6\n",
       "Art                     5\n",
       "Humor                   5\n",
       "Philosophy              5\n",
       "Science                 5\n",
       "Health                  4\n",
       "Spirituality            4\n",
       "Womens Fiction          4\n",
       "Travel                  4\n",
       "Religion                4\n",
       "Autobiography           3\n",
       "Psychology              3\n",
       "New Adult               3\n",
       "Self Help               3\n",
       "Politics                3\n",
       "Christian Fiction       3\n",
       "Contemporary            2\n",
       "Biography               2\n",
       "Christian               2\n",
       "Erotica                 1\n",
       "Cultural                1\n",
       "Crime                   1\n",
       "Historical              1\n",
       "Novels                  1\n",
       "Short Stories           1\n",
       "Suspense                1\n",
       "Name: count, dtype: int64"
      ]
     },
     "execution_count": 61,
     "metadata": {},
     "output_type": "execute_result"
    }
   ],
   "source": [
    "agrupado = dataset['Categoria'].value_counts()\n",
    "agrupado"
   ]
  },
  {
   "cell_type": "code",
   "execution_count": 114,
   "id": "d0cec1f1-d460-4ae7-ad24-f158c4bb17c1",
   "metadata": {},
   "outputs": [],
   "source": [
    "dataset.to_csv('dados_limpos.csv', index=False)"
   ]
  }
 ],
 "metadata": {
  "kernelspec": {
   "display_name": "Python [conda env:base] *",
   "language": "python",
   "name": "conda-base-py"
  },
  "language_info": {
   "codemirror_mode": {
    "name": "ipython",
    "version": 3
   },
   "file_extension": ".py",
   "mimetype": "text/x-python",
   "name": "python",
   "nbconvert_exporter": "python",
   "pygments_lexer": "ipython3",
   "version": "3.12.7"
  }
 },
 "nbformat": 4,
 "nbformat_minor": 5
}
